{
 "cells": [
  {
   "cell_type": "markdown",
   "metadata": {},
   "source": [
    "# Draw a graph\n",
    "Use the LesMiserables graph with layout copy/pasted from Java."
   ]
  },
  {
   "cell_type": "code",
   "execution_count": null,
   "metadata": {},
   "outputs": [],
   "source": [
    "%matplotlib inline\n",
    "import networkx as nx\n",
    "import matplotlib.pyplot as plt\n",
    "import io"
   ]
  },
  {
   "cell_type": "code",
   "execution_count": null,
   "metadata": {},
   "outputs": [],
   "source": [
    "g = nx.generators.social.les_miserables_graph()\n",
    "rename = {}\n",
    "for label in g.nodes:\n",
    "    rename[label] = label.lower()\n",
    "g = nx.relabel_nodes(g, rename)"
   ]
  },
  {
   "cell_type": "code",
   "execution_count": null,
   "metadata": {},
   "outputs": [],
   "source": [
    "fig, ax = plt.subplots(figsize=(14, 14))\n",
    "nx.draw(g, ax=ax)"
   ]
  },
  {
   "cell_type": "code",
   "execution_count": null,
   "metadata": {},
   "outputs": [],
   "source": [
    "with open('D:/tmp/lesmiserables-xy.txt') as f:\n",
    "    lxy = ''.join(f.readlines())"
   ]
  },
  {
   "cell_type": "code",
   "execution_count": null,
   "metadata": {},
   "outputs": [],
   "source": [
    "buf = io.StringIO(lxy)\n",
    "buf.seek(0)\n",
    "force = {}\n",
    "for line in buf:\n",
    "    label, x, y = line.strip().split(',')\n",
    "    x = float(x)\n",
    "    y = float(y)\n",
    "    force[label.lower()] = [x, -y]\n",
    "#     print(line.strip())"
   ]
  },
  {
   "cell_type": "code",
   "execution_count": null,
   "metadata": {},
   "outputs": [],
   "source": [
    "fig, ax = plt.subplots(figsize=(14, 14))\n",
    "nx.draw_networkx_edges(g, force, node_size=42, edge_color='grey', with_labels=False, ax=ax)\n",
    "nx.draw_networkx_nodes(g, force, node_size=42, node_color='k', with_labels=False, ax=ax)"
   ]
  },
  {
   "cell_type": "markdown",
   "metadata": {},
   "source": [
    "## Read a graph output by D3 testing"
   ]
  },
  {
   "cell_type": "code",
   "execution_count": null,
   "metadata": {},
   "outputs": [],
   "source": [
    "pos = {}\n",
    "g = nx.Graph()\n",
    "with open('D:/tmp/tree-xy.txt') as f:\n",
    "    for line in f:\n",
    "        line = line.strip()\n",
    "#         print(line)\n",
    "        if line.startswith('-'):\n",
    "            _, s, t = line.split(',')\n",
    "            g.add_edge(s, t)\n",
    "        else:\n",
    "            label, x, y = line.split(',')\n",
    "            x = float(x)\n",
    "            y = float(y)\n",
    "            g.add_node(label)\n",
    "            pos[label] = [x, -y]"
   ]
  },
  {
   "cell_type": "code",
   "execution_count": null,
   "metadata": {},
   "outputs": [],
   "source": [
    "fig, ax = plt.subplots(figsize=(14, 14))\n",
    "nx.draw_networkx_edges(g, pos, edge_color='grey', with_labels=False, ax=ax)\n",
    "nx.draw_networkx_nodes(g, pos, node_size=42, node_color='k', with_labels=False, ax=ax)"
   ]
  },
  {
   "cell_type": "code",
   "execution_count": null,
   "metadata": {},
   "outputs": [],
   "source": [
    "fig, ax = plt.subplots(figsize=(14, 14))\n",
    "nx.draw_networkx_edges(g, pos, edge_color='grey', with_labels=False, ax=ax)\n",
    "nx.draw_networkx_nodes(g, pos, node_size=42, node_color='k', with_labels=False, ax=ax)"
   ]
  },
  {
   "cell_type": "code",
   "execution_count": null,
   "metadata": {},
   "outputs": [],
   "source": []
  }
 ],
 "metadata": {
  "kernelspec": {
   "display_name": "Python 3",
   "language": "python",
   "name": "python3"
  },
  "language_info": {
   "codemirror_mode": {
    "name": "ipython",
    "version": 3
   },
   "file_extension": ".py",
   "mimetype": "text/x-python",
   "name": "python",
   "nbconvert_exporter": "python",
   "pygments_lexer": "ipython3",
   "version": "3.7.6"
  }
 },
 "nbformat": 4,
 "nbformat_minor": 4
}
