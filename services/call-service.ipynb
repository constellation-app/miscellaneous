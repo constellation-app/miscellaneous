{
 "cells": [
  {
   "cell_type": "markdown",
   "metadata": {},
   "source": [
    "# Call a CONSTELLATION Service\n",
    "Demonstrate calling the new CONSTELLATION `service` API and endpoint."
   ]
  },
  {
   "cell_type": "code",
   "execution_count": null,
   "metadata": {},
   "outputs": [],
   "source": [
    "from IPython.display import Image, display, HTML\n",
    "import constellation_client\n",
    "print(constellation_client.__version__)"
   ]
  },
  {
   "cell_type": "code",
   "execution_count": null,
   "metadata": {},
   "outputs": [],
   "source": [
    "cc = constellation_client.Constellation()"
   ]
  },
  {
   "cell_type": "code",
   "execution_count": null,
   "metadata": {},
   "outputs": [],
   "source": [
    "cc.call_service(\n",
    "    'list_plugins',\n",
    "    args={'list_plugins.alias':False}\n",
    ").json()"
   ]
  },
  {
   "cell_type": "code",
   "execution_count": null,
   "metadata": {},
   "outputs": [],
   "source": [
    "r = cc.call_service('list_services')\n",
    "r.json()"
   ]
  },
  {
   "cell_type": "code",
   "execution_count": null,
   "metadata": {},
   "outputs": [],
   "source": [
    "r = cc.call_service(\n",
    "    'get_service_description',\n",
    "    args={'get_service_description.service_name':'get_service_description'})\n",
    "r.json()"
   ]
  },
  {
   "cell_type": "code",
   "execution_count": null,
   "metadata": {},
   "outputs": [],
   "source": [
    "cc.call_service(\n",
    "    'get_plugin_parameters',\n",
    "    args={'get_plugin_parameters.plugin_name':'scriptingexecute'}\n",
    ").json()"
   ]
  },
  {
   "cell_type": "code",
   "execution_count": null,
   "metadata": {},
   "outputs": [],
   "source": [
    "cc.call_service(\n",
    "    'get_plugin_parameters',\n",
    "    args={'get_plugin_parameters.plugin_name':'randomarrangement'}\n",
    ").json()"
   ]
  },
  {
   "cell_type": "code",
   "execution_count": null,
   "metadata": {},
   "outputs": [],
   "source": [
    "dict_in = {\n",
    "    'A':1,\n",
    "    'B':[2, 3, 4],\n",
    "    'C':['five', 'six'],\n",
    "    'D':{'E':7, 'F':[8, 9]}\n",
    "}\n",
    "dict_out = cc.call_service('reflect_json', json=dict_in)\n",
    "dict_out.json()"
   ]
  },
  {
   "cell_type": "code",
   "execution_count": null,
   "metadata": {},
   "outputs": [],
   "source": [
    "r = cc.call_service('list_named_colors')\n",
    "r.json()"
   ]
  },
  {
   "cell_type": "code",
   "execution_count": null,
   "metadata": {},
   "outputs": [],
   "source": [
    "r = cc.call_service('list_icons', args={})\n",
    "r.json()"
   ]
  },
  {
   "cell_type": "code",
   "execution_count": null,
   "metadata": {},
   "outputs": [],
   "source": [
    "for name in ['Miscellaneous.Dalek', 'Transport.Tardis']:\n",
    "    img = cc.call_service(\n",
    "        'get_icon',\n",
    "        args={'get_icon.icon_name':name}\n",
    "    ).content\n",
    "    print(name)\n",
    "    display(Image(img))"
   ]
  },
  {
   "cell_type": "code",
   "execution_count": null,
   "metadata": {},
   "outputs": [],
   "source": [
    "r = cc.call_service('plugh')\n",
    "r.json()"
   ]
  },
  {
   "cell_type": "code",
   "execution_count": null,
   "metadata": {},
   "outputs": [],
   "source": [
    "HTML(cc.r.content.decode('latin1'))"
   ]
  },
  {
   "cell_type": "code",
   "execution_count": null,
   "metadata": {},
   "outputs": [],
   "source": [
    "r = cc.call_service(\n",
    "    'get_service_description',\n",
    "    args={'get_service_description.service_name':'blammo'})\n",
    "r.json()"
   ]
  },
  {
   "cell_type": "code",
   "execution_count": null,
   "metadata": {},
   "outputs": [],
   "source": [
    "HTML(cc.r.content.decode('latin1'))"
   ]
  },
  {
   "cell_type": "code",
   "execution_count": null,
   "metadata": {},
   "outputs": [],
   "source": []
  }
 ],
 "metadata": {
  "kernelspec": {
   "display_name": "Python 3",
   "language": "python",
   "name": "python3"
  },
  "language_info": {
   "codemirror_mode": {
    "name": "ipython",
    "version": 3
   },
   "file_extension": ".py",
   "mimetype": "text/x-python",
   "name": "python",
   "nbconvert_exporter": "python",
   "pygments_lexer": "ipython3",
   "version": "3.7.4"
  }
 },
 "nbformat": 4,
 "nbformat_minor": 2
}
