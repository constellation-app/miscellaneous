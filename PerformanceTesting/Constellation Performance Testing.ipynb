{
 "cells": [
  {
   "cell_type": "code",
   "execution_count": null,
   "metadata": {},
   "outputs": [],
   "source": [
    "import os\n",
    "import pandas as pd\n",
    "from datetime import datetime\n",
    "import constellation_client"
   ]
  },
  {
   "cell_type": "code",
   "execution_count": null,
   "metadata": {},
   "outputs": [],
   "source": [
    "cc = constellation_client.Constellation()"
   ]
  },
  {
   "cell_type": "code",
   "execution_count": null,
   "metadata": {},
   "outputs": [],
   "source": [
    "# initialise the graphics card\n",
    "id=cc.new_graph()\n",
    "cc.run_plugin('CloseGraph', args={'CloseGraphPlugin.forced': True, 'CloseGraphPlugin.graphId': id})"
   ]
  },
  {
   "cell_type": "code",
   "execution_count": null,
   "metadata": {},
   "outputs": [],
   "source": [
    "# TODO: put your file name location here\n",
    "filename='D:/Users/<username>/test.png'"
   ]
  },
  {
   "cell_type": "code",
   "execution_count": null,
   "metadata": {},
   "outputs": [],
   "source": [
    "def profile(nodes, transactions):\n",
    "    while os.path.exists(filename):\n",
    "        os.remove(filename)\n",
    "        \n",
    "    if(os.path.exists(filename)):\n",
    "        print(\"ERROR: File still exists\")\n",
    "    \n",
    "    id=cc.new_graph()\n",
    "    \n",
    "    start=datetime.now()\n",
    "    cc.run_plugin('SphereGraphBuilder', args={'SphereGraphBuilderPlugin.n':nodes, 'SphereGraphBuilderPlugin.t':transactions})\n",
    "    \n",
    "    cc.run_plugin('ExportToImage', args={'ExportToImagePlugin.filename': filename})\n",
    "    while not os.path.exists(filename):\n",
    "        continue\n",
    "\n",
    "    while os.stat(filename).st_size < 5000:\n",
    "        cc.run_plugin('ExportToImage', args={'ExportToImagePlugin.filename': filename})\n",
    "\n",
    "    end=datetime.now()\n",
    "    \n",
    "    result=end-start\n",
    "    \n",
    "    cc.run_plugin('CloseGraph', args={'CloseGraphPlugin.forced': True, 'CloseGraphPlugin.graphId': id})\n",
    "    \n",
    "    return result.total_seconds()\n"
   ]
  },
  {
   "cell_type": "code",
   "execution_count": null,
   "metadata": {
    "scrolled": true
   },
   "outputs": [],
   "source": [
    "results=[]\n",
    "results.append(profile(100,100))\n",
    "results.append(profile(1000,1000))\n",
    "results.append(profile(10000,10000))\n",
    "results.append(profile(30000,30000))"
   ]
  },
  {
   "cell_type": "code",
   "execution_count": null,
   "metadata": {},
   "outputs": [],
   "source": [
    "# TODO: 1k appears above 100 :-(\n",
    "\n",
    "df = pd.DataFrame(results, index={'100','1k','10k','30k'}, columns={'Time'})\n",
    "df.head()"
   ]
  }
 ],
 "metadata": {
  "kernelspec": {
   "display_name": "Python 3",
   "language": "python",
   "name": "python3"
  },
  "language_info": {
   "codemirror_mode": {
    "name": "ipython",
    "version": 3
   },
   "file_extension": ".py",
   "mimetype": "text/x-python",
   "name": "python",
   "nbconvert_exporter": "python",
   "pygments_lexer": "ipython3",
   "version": "3.8.3"
  }
 },
 "nbformat": 4,
 "nbformat_minor": 2
}
